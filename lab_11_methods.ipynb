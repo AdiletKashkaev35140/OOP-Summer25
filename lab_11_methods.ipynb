{
 "cells": [
  {
   "cell_type": "markdown",
   "id": "1786e0c8",
   "metadata": {},
   "source": [
    "## Task 1\n"
   ]
  },
  {
   "cell_type": "code",
   "execution_count": 1,
   "id": "23756e96",
   "metadata": {},
   "outputs": [
    {
     "name": "stdout",
     "output_type": "stream",
     "text": [
      "Hello! I am a student.\n"
     ]
    }
   ],
   "source": [
    "\n",
    "class Student:\n",
    "    def hello(self):\n",
    "        print(\"Hello! I am a student.\")\n",
    "\n",
    "# Example usage\n",
    "student = Student()\n",
    "student.hello()"
   ]
  },
  {
   "cell_type": "markdown",
   "id": "5add5117",
   "metadata": {},
   "source": [
    "  ## Cell 1 (from Task 1 – original Student class)"
   ]
  },
  {
   "cell_type": "code",
   "execution_count": 2,
   "id": "0db316bc",
   "metadata": {},
   "outputs": [],
   "source": [
    "class Student:\n",
    "    def hello(self):\n",
    "        print(\"Hello! I am a student.\")\n"
   ]
  },
  {
   "cell_type": "markdown",
   "id": "c92c43fc",
   "metadata": {},
   "source": [
    "## Cell 2 (Task 2 – updated Student class with constructor and improved hello)"
   ]
  },
  {
   "cell_type": "code",
   "execution_count": 7,
   "id": "0a3d08b1",
   "metadata": {},
   "outputs": [],
   "source": [
    "class Student:\n",
    "    def __init__(self, name, index_number):\n",
    "        self.name = name\n",
    "        self.index_number = index_number\n",
    "\n",
    "    def hello(self):\n",
    "        print(f\"Hello, I am {self.name} my index number is {self.index_number}.\")"
   ]
  },
  {
   "cell_type": "code",
   "execution_count": 8,
   "id": "c92fd821",
   "metadata": {},
   "outputs": [
    {
     "name": "stdout",
     "output_type": "stream",
     "text": [
      "Hello, I am Adilet Kashkaev my index number is 35140.\n"
     ]
    }
   ],
   "source": [
    "student2 = Student(\"Adilet Kashkaev\",35140)\n",
    "student.hello()"
   ]
  }
 ],
 "metadata": {
  "kernelspec": {
   "display_name": "Python 3",
   "language": "python",
   "name": "python3"
  },
  "language_info": {
   "codemirror_mode": {
    "name": "ipython",
    "version": 3
   },
   "file_extension": ".py",
   "mimetype": "text/x-python",
   "name": "python",
   "nbconvert_exporter": "python",
   "pygments_lexer": "ipython3",
   "version": "3.12.1"
  }
 },
 "nbformat": 4,
 "nbformat_minor": 5
}
