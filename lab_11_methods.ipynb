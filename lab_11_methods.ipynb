{
 "cells": [
  {
   "cell_type": "markdown",
   "id": "f9442f14",
   "metadata": {},
   "source": []
  },
  {
   "cell_type": "markdown",
   "id": "832168ef",
   "metadata": {},
   "source": [
    "In this notebook, we will learn how to use **functions** and **methods** in Python.  \n",
    "We'll use the `make_sound` function and a class called `MyAnimal` to demonstrate the concepts."
   ]
  },
  {
   "cell_type": "code",
   "execution_count": 44,
   "id": "ff59be8e",
   "metadata": {},
   "outputs": [
    {
     "name": "stdout",
     "output_type": "stream",
     "text": [
      "Woof!\n"
     ]
    }
   ],
   "source": [
    "def make_sound():\n",
    "    print(\"Woof!\")\n",
    "make_sound()\n"
   ]
  },
  {
   "cell_type": "markdown",
   "id": "a4f5bca5",
   "metadata": {},
   "source": [
    "## Function with a Parameter\n",
    "\n",
    "We can give input to a function using **parameters**.\n"
   ]
  },
  {
   "cell_type": "code",
   "execution_count": 45,
   "id": "b06b3408",
   "metadata": {},
   "outputs": [
    {
     "name": "stdout",
     "output_type": "stream",
     "text": [
      "Timmy says Woof!\n"
     ]
    }
   ],
   "source": [
    "def make_sound(name):\n",
    "    print(f\"{name} says Woof!\")\n",
    "make_sound(\"Timmy\")\n"
   ]
  },
  {
   "cell_type": "markdown",
   "id": "fe1f1242",
   "metadata": {},
   "source": [
    "## What is a Method?\n",
    "\n",
    "A **method** is like a function but it lives **inside a class**.  \n",
    "It usually takes `self` as the first parameter and defines what an object of the class can do.\n"
   ]
  },
  {
   "cell_type": "code",
   "execution_count": 46,
   "id": "05377930",
   "metadata": {},
   "outputs": [
    {
     "name": "stdout",
     "output_type": "stream",
     "text": [
      "Some animal makes a sound!\n"
     ]
    }
   ],
   "source": [
    "class MyAnimal:\n",
    "    def make_sound(self, name=\"Some animal\"):\n",
    "        print(f\"{name} makes a sound!\")\n",
    "my_dog = MyAnimal()\n",
    "my_dog.make_sound()\n"
   ]
  },
  {
   "cell_type": "code",
   "execution_count": 47,
   "id": "0d1a7c7c",
   "metadata": {},
   "outputs": [
    {
     "name": "stdout",
     "output_type": "stream",
     "text": [
      "Timmy makes a sound!\n"
     ]
    }
   ],
   "source": [
    "my_dog.make_sound(\"Timmy\")\n"
   ]
  },
  {
   "cell_type": "markdown",
   "id": "53654f50",
   "metadata": {},
   "source": [
    "## Summary\n",
    "\n",
    "| Concept   | Description                            | Example                          |\n",
    "|-----------|----------------------------------------|----------------------------------|\n",
    "| Function  | Reusable code block defined with `def` | `def make_sound():`             |\n",
    "| Method    | Function inside a class                | `def make_sound(self):`         |\n",
    "\n",
    "Now you understand how to create and use both functions and methods in Python!\n"
   ]
  }
 ],
 "metadata": {
  "kernelspec": {
   "display_name": "Python 3",
   "language": "python",
   "name": "python3"
  },
  "language_info": {
   "codemirror_mode": {
    "name": "ipython",
    "version": 3
   },
   "file_extension": ".py",
   "mimetype": "text/x-python",
   "name": "python",
   "nbconvert_exporter": "python",
   "pygments_lexer": "ipython3",
   "version": "3.12.1"
  }
 },
 "nbformat": 4,
 "nbformat_minor": 5
}
